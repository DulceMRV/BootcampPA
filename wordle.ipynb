{
 "cells": [
  {
   "cell_type": "code",
   "execution_count": 19,
   "id": "d31591b5",
   "metadata": {},
   "outputs": [
    {
     "name": "stdout",
     "output_type": "stream",
     "text": [
      "Iniciar Juego\n",
      "Tenes 3 intentos\n",
      "p-(e)-(r)-(r)-(o)-\n",
      "Te quedan 2 intentos\n",
      "[c][u][e][r][o]\n",
      "Ganaste!\n"
     ]
    }
   ],
   "source": [
    "# CREAR grilla vacia (lista para mostrar el progreso del juugador)\n",
    "def imprimir_grilla(lista):\n",
    "    var = \"\"\n",
    "    for l in lista:\n",
    "        var += l + \"-\"  \n",
    "        \n",
    "    print(var)\n",
    "\n",
    "def obtener_fila_verificada(palabra_a_encontrar, palabra_ingresada):\n",
    "    # Segundo paso: definir la cantidad de letras de la palabra a encontrar.\n",
    "    cantidad_de_letras_de_palabra_a_encontrar = 5\n",
    "\n",
    "    # Tercer paso: Crear una lista vacia para guardar las letras verificadas.\n",
    "    letras_verificadas = []\n",
    "\n",
    "    # Cuarto paso: se recorre cada posicion de la palabra.\n",
    "    for posicion in range(cantidad_de_letras_de_palabra_a_encontrar):\n",
    "        # Quinto paso: comparar las letras en la misma posicion.\n",
    "        las_letras_son_iguales = palabra_a_encontrar[posicion] == palabra_ingresada\n",
    "\n",
    "        # Sexto paso: se verifica si la letra existe en la palabra.\n",
    "        la_letra_existe_en_la_palabra = palabra_ingresada[posicion] in palabra_a_encontrar\n",
    "\n",
    "        if las_letras_son_iguales:\n",
    "            letras_verificadas.append(\"[\" + palabra_ingresada[posicion] + \"]\")\n",
    "        elif la_letra_existe_en_la_palabra:\n",
    "            letras_verificadas.append(\"(\" + palabra_ingresada[posicion] + \")\")\n",
    "        else:\n",
    "            letras_verificadas.append(palabra_ingresada[posicion])\n",
    "        \n",
    "    return letras_verificadas\n",
    "\n",
    "\n",
    "# INICIAR juego\n",
    "\n",
    "print(\"Iniciar Juego\")\n",
    "lista_palabras_a_encontrar = ['holaa','bebax','sillat','cuero','tijer']\n",
    "\n",
    "\n",
    "# DEFINIR palabra_a_encontrar \n",
    "palabra_a_encontrar = lista_palabras_a_encontrar[3]\n",
    "# print(f\"Oculto en juego, palabra a encontrar: {palabra_a_encontrar}\")\n",
    "\n",
    "# DEFINIR intentos\n",
    "intentos = 3\n",
    "print(\"Tenes 3 intentos\")\n",
    "while intentos > 0:\n",
    "    intentos -= 1\n",
    "    palabra_ingresada = input('Ingrese la palabra a encontrar')\n",
    "    # palabra_formato_lista = list(palabra)\n",
    "    if palabra_a_encontrar == palabra_ingresada:\n",
    "        var = \"\"\n",
    "        for l in palabra_ingresada:\n",
    "            var += \"[\" + l + \"]\"  \n",
    "            \n",
    "        print(var)\n",
    "        print(\"Ganaste!\")\n",
    "        break\n",
    "    valor = obtener_fila_verificada(palabra_a_encontrar, palabra_ingresada)\n",
    "    \n",
    "    imprimir_grilla(valor)\n",
    "    \n",
    "    print(f'Te quedan {intentos} intentos')\n",
    "\n",
    "else:\n",
    "    print('Te quedaste sin intentos')\n"
   ]
  }
 ],
 "metadata": {
  "kernelspec": {
   "display_name": "Python 3",
   "language": "python",
   "name": "python3"
  },
  "language_info": {
   "codemirror_mode": {
    "name": "ipython",
    "version": 3
   },
   "file_extension": ".py",
   "mimetype": "text/x-python",
   "name": "python",
   "nbconvert_exporter": "python",
   "pygments_lexer": "ipython3",
   "version": "3.10.11"
  }
 },
 "nbformat": 4,
 "nbformat_minor": 5
}
