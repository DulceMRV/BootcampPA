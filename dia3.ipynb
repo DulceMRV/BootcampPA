{
 "cells": [
  {
   "cell_type": "markdown",
   "id": "6814e3c5",
   "metadata": {},
   "source": [
    "## **DIA 3**"
   ]
  },
  {
   "cell_type": "markdown",
   "id": "1684ebcf",
   "metadata": {},
   "source": [
    "## Challenge 1 🤺 - 10m\n",
    "- Crear una función que imprima la variable palabra."
   ]
  },
  {
   "cell_type": "code",
   "execution_count": 4,
   "id": "774dc148",
   "metadata": {},
   "outputs": [
    {
     "name": "stdout",
     "output_type": "stream",
     "text": [
      "hola\n"
     ]
    }
   ],
   "source": [
    "palabra = \"hola\"\n",
    "\n",
    "def imprimir_palabra():\n",
    "    print(palabra)\n",
    "\n",
    "imprimir_palabra()\n"
   ]
  },
  {
   "cell_type": "markdown",
   "id": "5713f667",
   "metadata": {},
   "source": [
    "## Challenge 2 🤺 - 20 min\n",
    "- Crear una función que reciba dos letras (parámetros) y que verifique si son iguales:\n",
    "\n",
    "- Si son iguales, imprimir \"Las letras son iguales\".\n",
    "\n",
    "- De lo contrario, imprimir \"Las letras son diferentes\"."
   ]
  },
  {
   "cell_type": "code",
   "execution_count": 3,
   "id": "6edb6243",
   "metadata": {},
   "outputs": [
    {
     "name": "stdout",
     "output_type": "stream",
     "text": [
      "Las letras son diferentes\n"
     ]
    }
   ],
   "source": [
    "def letras_recibidas(letra1, letra2):\n",
    "    if letra1 == letra2: \n",
    "        print(\"Las letras son iguales\")\n",
    "    else:\n",
    "        print(\"Las letras son diferentes\")\n",
    "\n",
    "letras_recibidas(\"a\",\"b\")"
   ]
  },
  {
   "cell_type": "markdown",
   "id": "0765e7e2",
   "metadata": {},
   "source": [
    "## **return**"
   ]
  },
  {
   "cell_type": "code",
   "execution_count": 9,
   "id": "077a50b1",
   "metadata": {},
   "outputs": [
    {
     "data": {
      "text/plain": [
       "7"
      ]
     },
     "execution_count": 9,
     "metadata": {},
     "output_type": "execute_result"
    }
   ],
   "source": [
    "def sumatoria (nro1, nro2):\n",
    "    sumar = nro1 + nro2\n",
    "    return sumar\n",
    "\n",
    "sumatoria(4,3)\n"
   ]
  },
  {
   "cell_type": "code",
   "execution_count": 10,
   "id": "d8c4f160",
   "metadata": {},
   "outputs": [
    {
     "name": "stdout",
     "output_type": "stream",
     "text": [
      "8\n"
     ]
    }
   ],
   "source": [
    "suma1= sumatoria(4,3)\n",
    "total = suma1 + 1\n",
    "print(total)"
   ]
  },
  {
   "cell_type": "markdown",
   "id": "1a6c5adb",
   "metadata": {},
   "source": [
    "## Challenge 3 🤺 - 20m\n",
    "- Crear una función que reciba dos parámetros (una palabra y un número), y que retorne True si el número es igual a la cantidad de letras de la palabra. En caso contrario, que retorne False.\n",
    "\n",
    "- Pista: cantidad de letras de una palabra en python"
   ]
  },
  {
   "cell_type": "code",
   "execution_count": 21,
   "id": "34973d95",
   "metadata": {},
   "outputs": [
    {
     "data": {
      "text/plain": [
       "False"
      ]
     },
     "execution_count": 21,
     "metadata": {},
     "output_type": "execute_result"
    }
   ],
   "source": [
    "def palabra_nro(palabra, numero):\n",
    "    if numero == len(palabra):\n",
    "        return True\n",
    "    else:\n",
    "        return False\n",
    "\n",
    "palabra_nro(\"juan\", 5)"
   ]
  },
  {
   "cell_type": "markdown",
   "id": "a96f08c9",
   "metadata": {},
   "source": [
    "###### return ya viene con los booleanos (?)"
   ]
  },
  {
   "cell_type": "code",
   "execution_count": 23,
   "id": "05563f94",
   "metadata": {},
   "outputs": [
    {
     "data": {
      "text/plain": [
       "False"
      ]
     },
     "execution_count": 23,
     "metadata": {},
     "output_type": "execute_result"
    }
   ],
   "source": [
    "def palabra_nro(palabra, numero):\n",
    "    return palabra == numero\n",
    "\n",
    "palabra_nro(\"hola\", 4)"
   ]
  },
  {
   "cell_type": "markdown",
   "id": "05df213f",
   "metadata": {},
   "source": [
    "## Challenge 5 🤺 - 25m\n",
    "- Pedir al usuario que ingrese 1 palabra, luego convertir esa palabra a una lista con sus caracteres con list(). Agregar esa lista de caracteres a una lista llamada palabras_ingresadas. Repetir el proceso 3 veces. Cada vez que se agregue una lista de caracteres, imprimir la lista palabras_ingresadas.\n",
    "\n",
    "\n",
    "- Ejemplo del resultado esperado:\n",
    "\n",
    "- [['c', 'i', 'e', 'l', 'o']]\n",
    " # Al ingresar la primera palabra\n",
    "\n",
    "- [['c', 'i', 'e', 'l', 'o'], ['c', 'a', 'l', 'o', 'r']]\n",
    " # Al ingresar la segunda palabra\n",
    "\n",
    "- [['c', 'i', 'e', 'l', 'o'], ['c', 'a', 'l', 'o', 'r'], ['n', 'u', 'b', 'e', 's']]\n",
    " # Al ingresar la tercera palabra"
   ]
  },
  {
   "cell_type": "code",
   "execution_count": 3,
   "id": "e384d709",
   "metadata": {},
   "outputs": [
    {
     "name": "stdout",
     "output_type": "stream",
     "text": [
      "[['H', 'o', 'l', 'a']]\n",
      "[['H', 'o', 'l', 'a'], ['q', 'u', 'e']]\n",
      "[['H', 'o', 'l', 'a'], ['q', 'u', 'e'], ['t', 'a', 'l']]\n"
     ]
    }
   ],
   "source": [
    "palabras_ingresadas = [] #el array se inicia con corchetes\n",
    "for i in range (3):\n",
    "    palabra = input(\"Por favor ingrese una palabra\")\n",
    "    palabras_ingresadas.append(list(palabra))\n",
    "    print(palabras_ingresadas)"
   ]
  },
  {
   "cell_type": "code",
   "execution_count": null,
   "id": "0c07dbce",
   "metadata": {},
   "outputs": [],
   "source": [
    "# 1. Crear función que contenga dos parámetros\n",
    "def obtener_fila_verificada(palabra_a_encontrar)\n",
    "    "
   ]
  },
  {
   "cell_type": "code",
   "execution_count": null,
   "id": "b65b698d",
   "metadata": {},
   "outputs": [],
   "source": [
    "palabra_a_encontrar= \"huevo\"\n",
    "palabra_ingresada = input(\"Ingrese una palabra sw 5 letras\")\n",
    "\n",
    "lista_verificada = obtener_fila_verificada (palabra_a_encontrar, palabra_verificada)\n",
    "print(línea_verificada)\n"
   ]
  },
  {
   "cell_type": "markdown",
   "id": "fdf5b8f5",
   "metadata": {},
   "source": [
    "## Challenge 6 🤺 - 25m\n",
    "- Dada la lista de ejemplo: \n",
    "\n",
    "lista = [['h', 'o', 'l', 'i', 's'], ['h', 'e', 'l', 'l', 'o'], ['h', 'a', 'l', 'l', 'o']]\n",
    "\n",
    "- Crear una función que imprima una grilla (lista de listas), una línea por cada lista dentro de la lista principal.\n",
    "\n",
    "Ejemplo del resultado esperado:\n",
    "\n",
    "['h', 'o', 'l', 'i', 's']\n",
    "['h', 'e', 'l', 'l', 'o']\n",
    "['h', 'a', 'l', 'l', 'o']"
   ]
  },
  {
   "cell_type": "code",
   "execution_count": 29,
   "id": "198ab391",
   "metadata": {},
   "outputs": [
    {
     "name": "stdout",
     "output_type": "stream",
     "text": [
      "['h', 'o', 'l', 'i', 's']\n",
      "['h', 'e', 'l', 'l', 'o']\n",
      "['h', 'a', 'l', 'l', 'o']\n"
     ]
    }
   ],
   "source": [
    "lista_inicial = [['h', 'o', 'l', 'i', 's'], ['h', 'e', 'l', 'l', 'o'], ['h', 'a', 'l', 'l', 'o']]\n",
    "\n",
    "def imprimir_grilla (lista_inicial):\n",
    "    for i in lista_inicial:\n",
    "        print(i)\n",
    "\n",
    "imprimir_grilla (lista_inicial)"
   ]
  }
 ],
 "metadata": {
  "kernelspec": {
   "display_name": "Python 3",
   "language": "python",
   "name": "python3"
  },
  "language_info": {
   "codemirror_mode": {
    "name": "ipython",
    "version": 3
   },
   "file_extension": ".py",
   "mimetype": "text/x-python",
   "name": "python",
   "nbconvert_exporter": "python",
   "pygments_lexer": "ipython3",
   "version": "3.10.11"
  }
 },
 "nbformat": 4,
 "nbformat_minor": 5
}
