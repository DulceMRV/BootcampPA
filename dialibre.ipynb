{
 "cells": [
  {
   "cell_type": "markdown",
   "id": "8fd2e53e",
   "metadata": {},
   "source": [
    "## Challenge 1: Registro de Tareas con Diccionarios \n",
    "Crea un programa que gestione las tareas de una persona. Debe usar un diccionario \n",
    "para almacenar las tareas con la siguiente estructura: \n",
    "- tarea: nombre de la tarea. \n",
    "- estado: estado de la tarea (pendiente, en progreso, completada). \n",
    "El programa debe permitir al usuario: \n",
    "1. Agregar una tarea nueva. \n",
    "2. Modificar el estado de una tarea. \n",
    "3. Eliminar una tarea. \n",
    "4. Mostrar todas las tareas y su estado. "
   ]
  },
  {
   "cell_type": "code",
   "execution_count": null,
   "id": "553e8bff",
   "metadata": {},
   "outputs": [
    {
     "name": "stdout",
     "output_type": "stream",
     "text": [
      "\n",
      "1. Agregar tarea\n",
      "2. Modificar estado\n",
      "3. Eliminar tarea\n",
      "4. Mostrar tareas\n",
      "5. Salir\n",
      "Tarea 'leer' agregada con estado 'completada'.\n",
      "\n",
      "1. Agregar tarea\n",
      "2. Modificar estado\n",
      "3. Eliminar tarea\n",
      "4. Mostrar tareas\n",
      "5. Salir\n",
      "Tarea 'Correr' agregada con estado 'pendiente'.\n",
      "\n",
      "1. Agregar tarea\n",
      "2. Modificar estado\n",
      "3. Eliminar tarea\n",
      "4. Mostrar tareas\n",
      "5. Salir\n",
      "leer - completada\n",
      "Correr - pendiente\n",
      "\n",
      "1. Agregar tarea\n",
      "2. Modificar estado\n",
      "3. Eliminar tarea\n",
      "4. Mostrar tareas\n",
      "5. Salir\n",
      "Estado de 'leer' modificado a 'en progreso'.\n",
      "\n",
      "1. Agregar tarea\n",
      "2. Modificar estado\n",
      "3. Eliminar tarea\n",
      "4. Mostrar tareas\n",
      "5. Salir\n",
      "Tarea no encontrada.\n",
      "\n",
      "1. Agregar tarea\n",
      "2. Modificar estado\n",
      "3. Eliminar tarea\n",
      "4. Mostrar tareas\n",
      "5. Salir\n",
      "Tarea 'leer' eliminada.\n",
      "\n",
      "1. Agregar tarea\n",
      "2. Modificar estado\n",
      "3. Eliminar tarea\n",
      "4. Mostrar tareas\n",
      "5. Salir\n",
      "Correr - pendiente\n",
      "\n",
      "1. Agregar tarea\n",
      "2. Modificar estado\n",
      "3. Eliminar tarea\n",
      "4. Mostrar tareas\n",
      "5. Salir\n",
      "¡Hasta luego!\n"
     ]
    }
   ],
   "source": [
    "registro_de_tareas = {}\n",
    "\n",
    "while True:\n",
    "    print(\"\\n1. Agregar tarea\")\n",
    "    print(\"2. Modificar estado\")\n",
    "    print(\"3. Eliminar tarea\")\n",
    "    print(\"4. Mostrar tareas\")\n",
    "    print(\"5. Salir\")\n",
    "    \n",
    "    opcion = input(\"Elige una opción: \")\n",
    "    \n",
    "    if opcion == \"1\":\n",
    "        nombre_tarea = input(\"Nombre de la tarea: \")\n",
    "        estado = input(\"Estado (pendiente, en progreso, completada): \")\n",
    "        registro_de_tareas[nombre_tarea] = estado\n",
    "        print(f\"Tarea '{nombre_tarea}' agregada con estado '{estado}'.\")\n",
    "\n",
    "    elif opcion == \"2\":\n",
    "        nombre_tarea = input(\"Nombre de la tarea a modificar: \")\n",
    "        if nombre_tarea in registro_de_tareas:\n",
    "            estado = input(\"Nuevo estado (pendiente, en progreso, completada): \")\n",
    "            registro_de_tareas[nombre_tarea] = estado\n",
    "            print(f\"Estado de '{nombre_tarea}' modificado a '{estado}'.\")\n",
    "        else:\n",
    "            print(\"Tarea no encontrada.\")\n",
    "    \n",
    "    elif opcion == \"3\":\n",
    "        nombre_tarea = input(\"Nombre de la tarea a eliminar: \")\n",
    "        if nombre_tarea in registro_de_tareas:\n",
    "            del registro_de_tareas[nombre_tarea]\n",
    "            print(f\"Tarea '{nombre_tarea}' eliminada.\")\n",
    "        else:\n",
    "            print(\"Tarea no encontrada.\")\n",
    "    \n",
    "    elif opcion == \"4\":\n",
    "        if not registro_de_tareas:\n",
    "            print(\"No hay tareas registradas.\")\n",
    "        else:\n",
    "            for tarea, estado in registro_de_tareas.items():\n",
    "                print(f\"{tarea} - {estado}\")\n",
    "    \n",
    "    elif opcion == \"5\":\n",
    "        print(\"Listo\")\n",
    "        break\n",
    "    \n",
    "    else:\n",
    "        print(\"Opción no válida. Intenta nuevamente.\")\n"
   ]
  },
  {
   "cell_type": "markdown",
   "id": "f6e1ee11",
   "metadata": {},
   "source": [
    "## **Challenge 2: Adivina el Número**\n",
    "- Crea un juego simple en el que el usuario tiene que adivinar un número secreto. El \n",
    "usuario puede hacer 3 intentos. Cada vez que falle, el programa debe decir si el número \n",
    "secreto es mayor o menor al ingresado . Si el usuario adivina, debe mostrar \n",
    "\"¡Felicidades! Adivinaste\". "
   ]
  },
  {
   "cell_type": "code",
   "execution_count": 27,
   "id": "863f9635",
   "metadata": {},
   "outputs": [
    {
     "name": "stdout",
     "output_type": "stream",
     "text": [
      "SIIII FELICIDADES 🥳\n"
     ]
    }
   ],
   "source": [
    "#Definir el número secreto\n",
    "numero_secreto = 777\n",
    "\n",
    "#Definir intentos\n",
    "intentos = 3\n",
    "\n",
    "# NECESITAMOS USAR UN BUCLE PARA QUE SE LE PIDA OTRO NÚMERO AL USUARIO CUANDO SE EQUIVOQUE\n",
    "# EL BUCLE EN CUESTION:\n",
    "for i in range(intentos):\n",
    "    numero_ingresado = int(input(\"Adiviná el número secreto: \"))\n",
    "    \n",
    "    if numero_ingresado < numero_secreto:\n",
    "        print(\"El número que ingresaste es menor al número secreto.\")\n",
    "    elif numero_ingresado > numero_secreto:\n",
    "        print(\"El número que ingresaste es mayor al número secreto.\")\n",
    "    else:\n",
    "        print(\"SIIII FELICIDADES 🥳\")\n",
    "        break\n",
    "\n",
    "#PARA LOS INTENTOS \n",
    "    intentos_restantes = intentos - (i + 1)\n",
    "    if intentos_restantes > 0:\n",
    "        print(f\"Te quedan {intentos_restantes} intento(s).\")\n",
    "    else:\n",
    "        print(\"SUERTE LA PRÓXIMA\")\n"
   ]
  },
  {
   "cell_type": "markdown",
   "id": "639874bb",
   "metadata": {},
   "source": [
    "## **Challenge 3: La Clase Animal**\n",
    "### Crea una clase llamada Animal que tenga los atributos: \n",
    "- Nombre \n",
    "- edad \n",
    "### La clase debe tener un método llamado presentarse() que imprima algo como:\n",
    "- \"¡Hola! Soy [nombre] y tengo [edad] años. Luego, crea instancias de un perro y \n",
    "un gato y haz que ambos se presenten."
   ]
  },
  {
   "cell_type": "code",
   "execution_count": 42,
   "id": "1523921e",
   "metadata": {},
   "outputs": [
    {
     "name": "stdout",
     "output_type": "stream",
     "text": [
      "¡Hola! Soy Rufo y tengo 5 años.\n",
      "¡Hola! Soy Freya y tengo 6 años.\n"
     ]
    }
   ],
   "source": [
    "class Animal:\n",
    "#Atributos de clase:\n",
    "    celula = \"eucariota\"\n",
    "\n",
    "#Atributos de instancia\n",
    "    def __init__(self, nombre, edad):\n",
    "        self.nombre = nombre\n",
    "        self.edad = edad\n",
    "\n",
    "#Metodos\n",
    "    def presentarse(self):\n",
    "        print(f\"¡Hola! Soy {self.nombre} y tengo {self.edad} años.\")\n",
    "\n",
    "# PERRO\n",
    "perro = Animal(\"Rufo\", \"5\")\n",
    "perro.presentarse ()\n",
    "\n",
    "# GATO\n",
    "gato = Animal(\"Freya\", \"6\")\n",
    "gato.presentarse()"
   ]
  },
  {
   "cell_type": "markdown",
   "id": "dd95c2fa",
   "metadata": {},
   "source": [
    "## **Challenge 4: Peluche**\n",
    "#### Crea una clase Peluche con los atributos: \n",
    "-  nombre \n",
    "- tamaño \n",
    "### La clase debe tener un método abrazar() que imprima algo como: \"¡Es hora de \n",
    "abrazar a [nombre], el peluche de tamaño [tamaño]!\" \n",
    "- Luego, crea un peluche y haz que sea abrazado. \n",
    "- Conceptos usados: Clases, Atributos, Métodos."
   ]
  },
  {
   "cell_type": "code",
   "execution_count": 48,
   "id": "e608a6eb",
   "metadata": {},
   "outputs": [
    {
     "name": "stdout",
     "output_type": "stream",
     "text": [
      "¡Es hora de abrazar a Pelu, el peluche de tamaño pequeño!\n"
     ]
    }
   ],
   "source": [
    "class Peluche:\n",
    "# Atributos de instancia\n",
    "    def __init__(self, nombre, tamaño):\n",
    "        self.nombre = nombre\n",
    "        self.tamaño = tamaño\n",
    "\n",
    "# Métodos\n",
    "    def abrazar(self):\n",
    "        print(f\"¡Es hora de abrazar a {self.nombre}, el peluche de tamaño {self.tamaño}!\")\n",
    "\n",
    "Pelu = Peluche(\"Pelu\", \"pequeño\")\n",
    "Pelu.abrazar ()"
   ]
  },
  {
   "cell_type": "markdown",
   "id": "aae0e740",
   "metadata": {},
   "source": [
    "## **Challenge 5: Multiplicar una Lista de Números**\n",
    "Escribe una función llamada multiplicar_lista() que reciba una lista de números \n",
    "como parámetro y devuelva el resultado de multiplicar todos los elementos de la lista. "
   ]
  },
  {
   "cell_type": "code",
   "execution_count": 55,
   "id": "bbaad81a",
   "metadata": {},
   "outputs": [
    {
     "name": "stdout",
     "output_type": "stream",
     "text": [
      "244200\n"
     ]
    }
   ],
   "source": [
    "def multiplicar_lista(lista):\n",
    "    resultado = 1\n",
    "    for numero in lista:\n",
    "        resultado *= numero\n",
    "    return resultado\n",
    "\n",
    "print(multiplicar_lista([11, 50, 444]))\n"
   ]
  },
  {
   "cell_type": "markdown",
   "metadata": {},
   "source": [
    "## **Challenge 6: Acumulador de Números**\n",
    "- Escribe una función llamada acumulador() que reciba un número n como parámetro y \n",
    "devuelva la suma de todos los números desde 1 hasta n. "
   ]
  },
  {
   "cell_type": "code",
   "execution_count": 56,
   "id": "3e96f2c6",
   "metadata": {},
   "outputs": [
    {
     "name": "stdout",
     "output_type": "stream",
     "text": [
      "125250\n"
     ]
    }
   ],
   "source": [
    "def acumulador(n):\n",
    "    return sum(range(1, n+1))\n",
    "\n",
    "print(acumulador(500))"
   ]
  },
  {
   "cell_type": "code",
   "execution_count": 59,
   "id": "9fd3114f",
   "metadata": {},
   "outputs": [
    {
     "name": "stdout",
     "output_type": "stream",
     "text": [
      "Suma: 1 + 2 + 3 + 4 + 5 = 15\n"
     ]
    },
    {
     "data": {
      "text/plain": [
       "15"
      ]
     },
     "execution_count": 59,
     "metadata": {},
     "output_type": "execute_result"
    }
   ],
   "source": [
    "def acumulador(n):\n",
    "    suma = 0\n",
    "    cadena = \"\"\n",
    "    for i in range(1, n + 1):\n",
    "        suma += i\n",
    "        if i == n:\n",
    "            cadena += str(i)\n",
    "        else:\n",
    "            cadena += str(i) + \" + \"\n",
    "    print(f\"Suma: {cadena} = {suma}\")\n",
    "    return suma\n",
    "\n",
    "acumulador(5)"
   ]
  }
 ],
 "metadata": {
  "kernelspec": {
   "display_name": "Python 3",
   "language": "python",
   "name": "python3"
  },
  "language_info": {
   "codemirror_mode": {
    "name": "ipython",
    "version": 3
   },
   "file_extension": ".py",
   "mimetype": "text/x-python",
   "name": "python",
   "nbconvert_exporter": "python",
   "pygments_lexer": "ipython3",
   "version": "3.10.11"
  }
 },
 "nbformat": 4,
 "nbformat_minor": 5
}
