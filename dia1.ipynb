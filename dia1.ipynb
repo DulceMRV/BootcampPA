{
 "cells": [
  {
   "cell_type": "markdown",
   "id": "9f08c2ce",
   "metadata": {},
   "source": [
    "# DÍA 1"
   ]
  },
  {
   "cell_type": "markdown",
   "id": "5880f569",
   "metadata": {},
   "source": [
    "## Primera línea de código"
   ]
  },
  {
   "cell_type": "code",
   "execution_count": null,
   "id": "fda5edf4",
   "metadata": {},
   "outputs": [
    {
     "name": "stdout",
     "output_type": "stream",
     "text": [
      "Hola Mundo\n"
     ]
    }
   ],
   "source": [
    "print(\"Hola Mundo\")"
   ]
  },
  {
   "cell_type": "markdown",
   "id": "42dc562e",
   "metadata": {},
   "source": [
    "## Variables"
   ]
  },
  {
   "cell_type": "markdown",
   "id": "d63473ab",
   "metadata": {},
   "source": [
    "##### Espacio en la memoria donde se almacenan datos durante la ejecución de un programa\n",
    "##### Puede guardar datos, más de un dato"
   ]
  },
  {
   "cell_type": "markdown",
   "id": "e75c558f",
   "metadata": {},
   "source": [
    "## Tipo de datos\n",
    "- int - integer - 112\n",
    "- float - floating - 1.2\n",
    "- str - string - maria\n",
    "- bool - boolean- TRUE - FALSE"
   ]
  },
  {
   "cell_type": "markdown",
   "id": "a141b311",
   "metadata": {},
   "source": [
    "## **Challenge 1.1**"
   ]
  },
  {
   "cell_type": "markdown",
   "id": "dd112f72",
   "metadata": {},
   "source": [
    "Challenge 🤺 - 20m\n",
    "Suma: asignar dos números en dos variables diferentes cantidad_de_manzanas y cantidad_de_naranjas. Luego sumar ambas variables en cantidad_de_frutas. Imprimir la última variable.\n",
    "\n",
    "Resta: asignar un valor numérico a la variable frutas_vendidas. Luego, asignar la resta entre cantidad_de_frutas y frutas_vendidas a la variable frutas_restantes. Imprimir la última variable."
   ]
  },
  {
   "cell_type": "code",
   "execution_count": null,
   "id": "0fa4f877",
   "metadata": {},
   "outputs": [
    {
     "name": "stdout",
     "output_type": "stream",
     "text": [
      "15\n"
     ]
    }
   ],
   "source": [
    "#Suma\n",
    "cantidad_de_manzanas= 10\n",
    "cantidad_de_naranjas= 5\n",
    "cantidad_de_frutas= (cantidad_de_manzanas+cantidad_de_naranjas)\n",
    "print(cantidad_de_frutas)"
   ]
  },
  {
   "cell_type": "code",
   "execution_count": null,
   "id": "8f5f356d",
   "metadata": {},
   "outputs": [
    {
     "name": "stdout",
     "output_type": "stream",
     "text": [
      "7\n"
     ]
    }
   ],
   "source": [
    "#Resta\n",
    "frutas_vendidas= 8\n",
    "frutas_restantes= (cantidad_de_frutas-frutas_vendidas)\n",
    "print(frutas_restantes)"
   ]
  },
  {
   "cell_type": "markdown",
   "id": "dd119584",
   "metadata": {},
   "source": [
    "## Challenge 1.2"
   ]
  },
  {
   "cell_type": "markdown",
   "id": "759439d5",
   "metadata": {},
   "source": [
    "Challenge 🤺 - 20m\n",
    "Suma: asignar dos números en dos variables diferentes cantidad_de_manzanas y cantidad_de_naranjas. Luego sumar ambas variables en cantidad_de_frutas. Imprimir la última variable.\n",
    "\n",
    "Resta: asignar un valor numérico a la variable frutas_vendidas. Luego, asignar la resta entre cantidad_de_frutas y frutas_vendidas a la variable frutas_restantes. Imprimir la última variable."
   ]
  },
  {
   "cell_type": "code",
   "execution_count": null,
   "id": "c198cb0a",
   "metadata": {},
   "outputs": [
    {
     "name": "stdout",
     "output_type": "stream",
     "text": [
      "Hola me llamo Alan Riquelme. Adiós\n"
     ]
    }
   ],
   "source": [
    "#Con \"+\"\n",
    "nombre= \"Alan\"\n",
    "apellido= \"Riquelme\"\n",
    "print (\"Hola me llamo\" + \" \"+ nombre + \" \"+ apellido + \".\" + \" \" + \"Adiós\")"
   ]
  },
  {
   "cell_type": "code",
   "execution_count": null,
   "id": "a45b46f5",
   "metadata": {},
   "outputs": [
    {
     "name": "stdout",
     "output_type": "stream",
     "text": [
      "Hola, me llamo: Alan Riquelme. Mucho gusto\n"
     ]
    }
   ],
   "source": [
    "#Con f\n",
    "print (f\"Hola, me llamo: {nombre} {apellido}. Mucho gusto\")"
   ]
  },
  {
   "cell_type": "code",
   "execution_count": null,
   "id": "438473e1",
   "metadata": {},
   "outputs": [
    {
     "name": "stdout",
     "output_type": "stream",
     "text": [
      "Hola me llamo Alan Riquelme. Mucho gusto.\n"
     ]
    }
   ],
   "source": [
    "print(\"Hola me llamo \"+ nombre + \" \" + apellido + \". Mucho gusto.\")"
   ]
  },
  {
   "cell_type": "markdown",
   "id": "f272d5a9",
   "metadata": {},
   "source": [
    "### *Input*"
   ]
  },
  {
   "cell_type": "markdown",
   "id": "defb2580",
   "metadata": {},
   "source": [
    "## Challenge 1.3"
   ]
  },
  {
   "cell_type": "markdown",
   "id": "ade04c6c",
   "metadata": {},
   "source": [
    "Challenge 🤺 - 10m\n",
    "Solicitar al usuario ingresar dos números y almacenarlos en dos variables. Luego, imprimir la suma de los dos números."
   ]
  },
  {
   "cell_type": "code",
   "execution_count": 72,
   "id": "1c30bb76",
   "metadata": {},
   "outputs": [
    {
     "name": "stdout",
     "output_type": "stream",
     "text": [
      "La suma de ambos números es 17\n"
     ]
    }
   ],
   "source": [
    "numero1 = int(input(\"Dame un número1\"))\n",
    "numero2 = int(input(\"Dame un número2\"))\n",
    "suma = numero1 + numero2\n",
    "print(f\"La suma de ambos números es {suma}\")"
   ]
  },
  {
   "cell_type": "markdown",
   "id": "c4bcf110",
   "metadata": {},
   "source": [
    "## **Funciones**"
   ]
  },
  {
   "cell_type": "markdown",
   "id": "cdb3bf11",
   "metadata": {},
   "source": [
    "### Función de preparar sandwich"
   ]
  },
  {
   "cell_type": "code",
   "execution_count": 79,
   "id": "a4b8e34d",
   "metadata": {},
   "outputs": [
    {
     "name": "stdout",
     "output_type": "stream",
     "text": [
      "Abrir pan\n",
      "Agregar jamón y queso\n",
      "Cerrar pan\n",
      "Listo\n"
     ]
    }
   ],
   "source": [
    "def preparar_sandwich():\n",
    "    print(\"Abrir pan\")\n",
    "    print(\"Agregar jamón y queso\")\n",
    "    print(\"Cerrar pan\")\n",
    "    print(\"Listo\")\n",
    "\n",
    "preparar_sandwich()"
   ]
  },
  {
   "cell_type": "markdown",
   "id": "093324a6",
   "metadata": {},
   "source": [
    "### **Challenge 1.4**"
   ]
  },
  {
   "cell_type": "markdown",
   "id": "53005635",
   "metadata": {},
   "source": [
    "Challenge 🤺 - 10m\n",
    "Crear una función de un proceso que se les ocurra que tenga varios pasos.\n",
    "Ejecutar la función 3 veces."
   ]
  },
  {
   "cell_type": "code",
   "execution_count": 85,
   "id": "7195ec8b",
   "metadata": {},
   "outputs": [
    {
     "name": "stdout",
     "output_type": "stream",
     "text": [
      "Observar a nivel mundial el tema\n",
      "Observar a nivel nacional el tema\n",
      "Observar a nivel local el tema\n",
      "Reconocer el problema\n",
      "Observar a nivel mundial el tema\n",
      "Observar a nivel nacional el tema\n",
      "Observar a nivel local el tema\n",
      "Reconocer el problema\n",
      "Observar a nivel mundial el tema\n",
      "Observar a nivel nacional el tema\n",
      "Observar a nivel local el tema\n",
      "Reconocer el problema\n"
     ]
    }
   ],
   "source": [
    "# Definir función y ejecutar 3 veces\n",
    "def plantear_problema_investigación():\n",
    "    print(\"Observar a nivel mundial el tema\")\n",
    "    print(\"Observar a nivel nacional el tema\")\n",
    "    print(\"Observar a nivel local el tema\")\n",
    "    print(\"Reconocer el problema\")\n",
    "\n",
    "plantear_problema_investigación()\n",
    "plantear_problema_investigación()\n",
    "plantear_problema_investigación()"
   ]
  },
  {
   "cell_type": "markdown",
   "id": "8a18911e",
   "metadata": {},
   "source": [
    "## Parámetros y argumentos"
   ]
  },
  {
   "cell_type": "code",
   "execution_count": null,
   "id": "8bd69d7d",
   "metadata": {},
   "outputs": [],
   "source": [
    "def plantear_objetivo_investigación (tema)"
   ]
  },
  {
   "cell_type": "markdown",
   "id": "d9cd2c85",
   "metadata": {},
   "source": [
    "## Challenge 1.5\n",
    "Escribir una funcion que nos pregunte las caracteriticas de un elemento a comprar e imprima el elemento con sus caracteristicas."
   ]
  },
  {
   "cell_type": "code",
   "execution_count": 92,
   "id": "6689a457",
   "metadata": {},
   "outputs": [
    {
     "name": "stdout",
     "output_type": "stream",
     "text": [
      "Ir a ciclovia\n",
      "Elegir tipo de bicicleta\n",
      "El tipo de bicicleta es de montaña, marca scott, de color negro\n",
      "Comprar la bicicleta\n",
      "Salir de ciclovia\n"
     ]
    }
   ],
   "source": [
    "def comprar_bicicleta(caracteristica):\n",
    "    print(\"Ir a ciclovia\")\n",
    "    print(\"Elegir tipo de bicicleta\")\n",
    "    print(f\"El tipo de bicicleta es {caracteristica}\")\n",
    "    print (\"Comprar la bicicleta\")\n",
    "    print (\"Salir de ciclovia\")\n",
    "\n",
    "\n",
    "comprar_bicicleta(\"de montaña, marca scott, de color negro\")"
   ]
  },
  {
   "cell_type": "code",
   "execution_count": null,
   "id": "b2644fd0",
   "metadata": {},
   "outputs": [],
   "source": []
  }
 ],
 "metadata": {
  "kernelspec": {
   "display_name": "Python 3",
   "language": "python",
   "name": "python3"
  },
  "language_info": {
   "codemirror_mode": {
    "name": "ipython",
    "version": 3
   },
   "file_extension": ".py",
   "mimetype": "text/x-python",
   "name": "python",
   "nbconvert_exporter": "python",
   "pygments_lexer": "ipython3",
   "version": "3.10.11"
  }
 },
 "nbformat": 4,
 "nbformat_minor": 5
}
