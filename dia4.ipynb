{
 "cells": [
  {
   "cell_type": "markdown",
   "id": "f2e069fd",
   "metadata": {},
   "source": [
    "## **DIA 4**"
   ]
  },
  {
   "cell_type": "markdown",
   "id": "ae818968",
   "metadata": {},
   "source": [
    "# Challenge 1\n",
    "- Escribir un programa que cree un diccionario vacío y lo vaya llenando con información sobre una persona (ej: edad, sexo, teléfono, correo electrónico, etc) \n",
    "- Que se le pida al usuario. Cada vez que se añada un nuevo dato debe imprimirse el contenido del diccionario."
   ]
  },
  {
   "cell_type": "code",
   "execution_count": 7,
   "id": "9c06bbc6",
   "metadata": {},
   "outputs": [
    {
     "name": "stdout",
     "output_type": "stream",
     "text": [
      "{'nombre': 'Dulce'}\n",
      "{'nombre': 'Dulce', 'apellido': 'Rodriguez'}\n",
      "{'nombre': 'Dulce', 'apellido': 'Rodriguez', 'edad': '26'}\n"
     ]
    }
   ],
   "source": [
    "mi_contacto = {}\n",
    "\n",
    "nombre = input(\"Ingrese su nombre\")\n",
    "mi_contacto[\"nombre\"] = nombre\n",
    "\n",
    "print(mi_contacto)\n",
    "\n",
    "apellido = input(\"Ingrese su apellido\")\n",
    "mi_contacto[\"apellido\"] = apellido\n",
    "\n",
    "print(mi_contacto)\n",
    "\n",
    "edad = input(\"Ingrese su edad\")\n",
    "mi_contacto[\"edad\"] = edad\n",
    "\n",
    "print(mi_contacto)\n"
   ]
  },
  {
   "cell_type": "markdown",
   "id": "56d3a401",
   "metadata": {},
   "source": [
    "## Challenge 2\n",
    "- Crear una tarjeta personal. El usuario (mediante input) puede elegir:\n",
    "1. Crear datos nuevos\n",
    "2. Modificar datos\n",
    "3. Eliminar datos"
   ]
  },
  {
   "cell_type": "code",
   "execution_count": 12,
   "id": "a9b0e609",
   "metadata": {},
   "outputs": [
    {
     "name": "stdout",
     "output_type": "stream",
     "text": [
      "Esta es su tarjeta personal:\n",
      "nombre : Josias\n",
      "edad : 27\n",
      "celular : 777\n",
      "Ha seleccionado la opción de crear un nuevo dato\n",
      "{'nombre': 'Josias', 'edad': '27', 'celular': '777', 'agua para dulce': 'superpoder'}\n"
     ]
    }
   ],
   "source": [
    "tarjeta_personal = {\"nombre\": \"Josias\", \"edad\": \"27\", \"celular\": \"777\"}\n",
    "print(\"Esta es su tarjeta personal:\")\n",
    "\n",
    "def imprimir_tarjeta(tarjeta_personal):\n",
    "    for clave, valor in tarjeta_personal.items():\n",
    "        print(clave, \":\", valor)\n",
    "\n",
    "imprimir_tarjeta(tarjeta_personal)\n",
    "\n",
    "# AGREGAR DATO NUEVO\n",
    "seleccionar = input(\"Seleccione una opción: a. Crear datos nuevo, b. Modificar datos, c. Eliminar datos\")\n",
    "if seleccionar == \"a\":\n",
    "    print(\"Ha seleccionado la opción de crear un nuevo dato\")\n",
    "    clave = input(\"Ingrese su nuevo dato\")\n",
    "    valor = input (\"Rellene el campo\")\n",
    "    tarjeta_personal[clave] = valor\n",
    "    print (tarjeta_personal)\n",
    "\n",
    "# MODIFICAR DATO\n",
    "elif seleccionar == \"b\":\n",
    "    clave = input(\"Seleccione el dato que desea modificar: \")\n",
    "    if clave in tarjeta_personal:\n",
    "        valor = input(\"Rellene el campo: \")\n",
    "        tarjeta_personal[clave] = valor\n",
    "        print(\"Dato modificado correctamente.\")\n",
    "    else:\n",
    "        clave = input(\"Ese dato no existe. Por favor intente de nuevo\")\n",
    "    print(tarjeta_personal)\n",
    "\n",
    "# ELIMINAR DATO\n",
    "elif seleccionar == \"c\":\n",
    "    clave = input (\"Seleccione el dato que desea eliminar\")\n",
    "    del tarjeta_personal[clave]\n",
    "    print (tarjeta_personal)\n",
    "\n",
    "#DATO DISTINTO\n",
    "else:\n",
    "    print(\"Error, ingrese nuevamente una opción\")"
   ]
  },
  {
   "cell_type": "markdown",
   "id": "43052b93",
   "metadata": {},
   "source": [
    "## Código Max"
   ]
  },
  {
   "cell_type": "code",
   "execution_count": 13,
   "id": "a2639e5a",
   "metadata": {},
   "outputs": [
    {
     "name": "stdout",
     "output_type": "stream",
     "text": [
      "Haz seleccionado crear datos nuevos\n",
      "{'correo': 'dul@gmail'}\n",
      "Haz seleccionado crear datos nuevos\n",
      "{'correo': 'dul@gmail', 'telefono': '911'}\n",
      "{'correo': 'dul@gmail', 'telefono': '911'}\n"
     ]
    }
   ],
   "source": [
    "tarjeta_personal = {}\n",
    "while True:\n",
    "    eleccion = int(input (\"Que accion desea hacer ? Eliga los numeros 1, 2 o 3 donde: 1. Crear datos nuevos 2. Modificar datos 3. Eliminar datos\"))\n",
    "    if eleccion == 1:\n",
    "        print (\"Haz seleccionado crear datos nuevos\")\n",
    "        clave = input (\"Ingrese el nombre de tu dato: \").lower()\n",
    "        valor = input (\"Ingrese el valor de tu dato\").lower()\n",
    "        tarjeta_personal.update ({clave:valor})\n",
    "        print(tarjeta_personal)\n",
    "\n",
    "    elif eleccion == 2:\n",
    "        print (\"Haz seleccionado modificar datos, los datos que puedes modificar son:\")\n",
    "        if tarjeta_personal == {}:\n",
    "            print (\"No hay nada que modificar\")\n",
    "        else:\n",
    "            print (tarjeta_personal.keys())\n",
    "            dato = input(\"Ingrese el nuevo dato a modificar\").lower()\n",
    "            value = input (\"Ingrese el valor del dato:\")\n",
    "            tarjeta_personal[dato] = value\n",
    "        print(tarjeta_personal)\n",
    "\n",
    "    elif eleccion == 3:\n",
    "        print (\"Haz seleccionado eliminar datos, los datos que puedes eliminar son:\")\n",
    "        if tarjeta_personal == {}:\n",
    "            print (\"No hay nada que eliminar\")\n",
    "        else:\n",
    "            print (tarjeta_personal.keys())\n",
    "            dato = input(\"Ingrese dato a eliminar\").lower()\n",
    "            del tarjeta_personal[dato]\n",
    "            print (\"Se ha eliminado el dato correctamente\")\n",
    "        print(tarjeta_personal)\n",
    "    else:\n",
    "        print (\"Recuerde que las opciones estan enumeradas y debes introducir 1, 2 o 3\")\n",
    "        continue\n",
    "    condicionador = input(\"Desea hacer otra opcion ? si o no\").lower()\n",
    "    if condicionador == \"no\":\n",
    "        break\n",
    "print (tarjeta_personal)"
   ]
  },
  {
   "cell_type": "markdown",
   "id": "201239ea",
   "metadata": {},
   "source": []
  },
  {
   "cell_type": "markdown",
   "id": "9c14b047",
   "metadata": {},
   "source": [
    "## Challenge 3 🤺\n",
    "- Crear una agenda de contactos. El usuario puede elegir:\n",
    "\n",
    "Mostrar los contactos\n",
    "Crear contacto\n",
    "Modificar datos del contacto"
   ]
  },
  {
   "cell_type": "code",
   "execution_count": 8,
   "id": "52b6c1eb",
   "metadata": {},
   "outputs": [
    {
     "name": "stdout",
     "output_type": "stream",
     "text": [
      "Crear contacto\n",
      "{'Dulce': '098113123'}\n",
      "{'Dulce': 'jdjdjd'}\n"
     ]
    }
   ],
   "source": [
    "diccionario_nombres = {}\n",
    "diccionario_datos = {}\n",
    "\n",
    "#CREAR CONTACTO\n",
    "print(\"Crear contacto\")\n",
    "nombre = input(\"Ingrese el nombre del nuevo contacto\")\n",
    "dato1 = input(\"Número de celular\")\n",
    "diccionario_nombres[nombre] = dato1\n",
    "print (diccionario_nombres)\n",
    "dato2 = input(\"Correo\")\n",
    "diccionario_nombres[nombre] = dato2\n",
    "print (diccionario_nombres)\n",
    "\n"
   ]
  },
  {
   "cell_type": "code",
   "execution_count": 16,
   "id": "54ea3c92",
   "metadata": {},
   "outputs": [
    {
     "name": "stdout",
     "output_type": "stream",
     "text": [
      "\n",
      "Menú de Agenda:\n",
      "1. Mostrar contactos\n",
      "2. Crear contacto\n",
      "3. Modificar contacto\n",
      "4. Salir\n",
      "¡Hasta luego!\n"
     ]
    }
   ],
   "source": [
    "agenda = {}\n",
    "\n",
    "while True:\n",
    "    print(\"\\nMenú de Agenda:\") #ESTO \\n ES UN SALTO DE LÍNEA\n",
    "    print(\"1. Mostrar contactos\")\n",
    "    print(\"2. Crear contacto\")\n",
    "    print(\"3. Modificar contacto\")\n",
    "    print(\"4. Salir\")\n",
    "\n",
    "    opcion = input(\"Seleccione una opción (1-4): \")\n",
    "\n",
    "    if opcion == \"1\":\n",
    "        # Mostrar contactos\n",
    "        if not agenda:\n",
    "            print(\"La agenda está vacía.\")\n",
    "        else:\n",
    "            print(\"Mostrando todos los contactos:\")\n",
    "            for nombre, datos in agenda.items():\n",
    "                print(f\"\\nNombre: {nombre}\")\n",
    "                print(f\"  Teléfono: {datos['telefono']}\")\n",
    "                print(f\"  Email: {datos['email']}\")\n",
    "            print(f\"\\nEstado actual del diccionario agenda: {agenda}\")  \n",
    "\n",
    "    elif opcion == \"2\":\n",
    "        # Crear contacto\n",
    "        nombre = input(\"Ingrese el nombre del contacto: \")\n",
    "        if nombre in agenda:\n",
    "            print(\"Ese contacto ya existe.\")\n",
    "        else:\n",
    "            telefono = input(\"Ingrese el número de teléfono: \")\n",
    "            email = input(\"Ingrese el correo electrónico: \")\n",
    "            agenda[nombre] = {\n",
    "                \"telefono\": telefono,\n",
    "                \"email\": email\n",
    "            }\n",
    "            print(\"Contacto agregado correctamente.\")\n",
    "            print(f\"Estado actual del diccionario agenda: {agenda}\")  \n",
    "\n",
    "    elif opcion == \"3\":\n",
    "        # Modificar contacto\n",
    "        nombre = input(\"Ingrese el nombre del contacto a modificar: \")\n",
    "        if nombre in agenda:\n",
    "            print(f\"Datos actuales de {nombre}:\")\n",
    "            print(f\"  Teléfono: {agenda[nombre]['telefono']}\")\n",
    "            print(f\"  Email: {agenda[nombre]['email']}\")\n",
    "            campo = input(\"¿Qué desea modificar? (telefono/email): \")\n",
    "            if campo in agenda[nombre]:\n",
    "                nuevo_valor = input(f\"Ingrese el nuevo {campo}: \")\n",
    "                agenda[nombre][campo] = nuevo_valor\n",
    "                print(f\"{campo} modificado correctamente.\")\n",
    "            else:\n",
    "                print(\"Ese dato no existe.\")\n",
    "            print(f\"Estado actual del diccionario agenda: {agenda}\")  \n",
    "        else:\n",
    "            print(\"Ese contacto no existe.\")\n",
    "\n",
    "    elif opcion == \"4\":\n",
    "        print(\"¡Hasta luego!\")\n",
    "        break\n",
    "\n",
    "    else:\n",
    "        print(\"Opción no válida. Intente de nuevo.\")\n"
   ]
  },
  {
   "cell_type": "markdown",
   "id": "10b7db96",
   "metadata": {},
   "source": [
    "## Challenge 🤺\n",
    "- Crear dos métodos para nuestro animal y ejecutar, debe ser algo específico de ese animal.\n",
    "\n",
    "- Ejemplo: \"Cuando hablo, digo X\".\n",
    "- Ejemplo: \"Cuando me muevo, hago X\"."
   ]
  },
  {
   "cell_type": "code",
   "execution_count": 70,
   "id": "209b60be",
   "metadata": {},
   "outputs": [
    {
     "name": "stdout",
     "output_type": "stream",
     "text": [
      "negro delmer\n",
      "Miau\n"
     ]
    }
   ],
   "source": [
    "class Gato:\n",
    "#Atributos de clase\n",
    "    ojos = 2\n",
    "    patas = 4\n",
    "\n",
    "#Atributos de instancia\n",
    "    def __init__(self, color, raza):\n",
    "        self.color = color\n",
    "        self.raza = raza\n",
    "\n",
    "\n",
    "# MÉTODOS \n",
    "    def ronroneo(self):\n",
    "        return(\"prrr\")\n",
    "    def maullido(self):\n",
    "        return(\"Miau\")\n",
    "\n",
    "\n",
    "\n",
    "\n",
    "michi = Gato(\"negro\", \"delmer\")\n",
    "\n",
    "print(michi.color, michi.raza)\n",
    "\n",
    "print(f'{michi.maullido()}')\n",
    "\n"
   ]
  },
  {
   "cell_type": "markdown",
   "id": "9d3a5c75",
   "metadata": {},
   "source": [
    "## Herencia"
   ]
  },
  {
   "cell_type": "code",
   "execution_count": 76,
   "id": "1f5974af",
   "metadata": {},
   "outputs": [
    {
     "data": {
      "text/plain": [
       "'juega con la pelota'"
      ]
     },
     "execution_count": 76,
     "metadata": {},
     "output_type": "execute_result"
    }
   ],
   "source": [
    "# EJEMPLO\n",
    "class Gatito (Gato):\n",
    "    cola = 1\n",
    "    \n",
    "    def jugar(self):\n",
    "        return \"juega con la pelota\"\n",
    "    \n",
    "michito = Gatito (\"negro\", \"chico\")\n",
    "michito.jugar()"
   ]
  },
  {
   "cell_type": "markdown",
   "id": "d76fa846",
   "metadata": {},
   "source": [
    "## Challenge 🤺\n",
    "- Definir una clase madre que herede a sus clases hijas dos atributos de instancia. Mostrar ambos atributos en pantalla desde los objetos de las clases hijas.\n",
    "\n",
    "- Observación: Editar las clases hijas para que no se inicialicen."
   ]
  },
  {
   "cell_type": "code",
   "execution_count": 97,
   "id": "949ae639",
   "metadata": {},
   "outputs": [
    {
     "data": {
      "text/plain": [
       "'come zanahorias'"
      ]
     },
     "execution_count": 97,
     "metadata": {},
     "output_type": "execute_result"
    }
   ],
   "source": [
    "class Conejo:\n",
    "#Atributos de clase\n",
    "    ojos = 2\n",
    "    patas = 4\n",
    "\n",
    "#Atributos de instancia\n",
    "    def __init__(self, color, raza):\n",
    "        self.color = color\n",
    "        self.raza = raza\n",
    "\n",
    "\n",
    "# MÉTODOS \n",
    "    def desplazamiento (self):\n",
    "        return(\"salta y salta\")\n",
    "    def come(self):\n",
    "        return(\"come zanahorias\")\n",
    "\n",
    "\n",
    "\n",
    "\n",
    "rabi = Conejo(\"marron\", \"holandés\")\n",
    "\n",
    "rabi.desplazamiento()\n",
    "rabi.come()\n"
   ]
  },
  {
   "cell_type": "code",
   "execution_count": 113,
   "id": "f5bd0cc8",
   "metadata": {},
   "outputs": [
    {
     "name": "stdout",
     "output_type": "stream",
     "text": [
      "negro\n",
      "holandés\n"
     ]
    }
   ],
   "source": [
    "class Conejito (Conejo):\n",
    "#ATRIBUTOS DE CLASE\n",
    "    ojos =2\n",
    "    patas = 4\n",
    "\n",
    "#MÉTODOS\n",
    "    def asustado (self):\n",
    "        return \"grita\"\n",
    "\n",
    "#ATRIBUTOS DE INSTANCIA\n",
    "rabito = Conejito (\"negro\",\"holandés\")\n",
    "print(rabito.color)\n",
    "print(rabito.raza)"
   ]
  }
 ],
 "metadata": {
  "kernelspec": {
   "display_name": "Python 3",
   "language": "python",
   "name": "python3"
  },
  "language_info": {
   "codemirror_mode": {
    "name": "ipython",
    "version": 3
   },
   "file_extension": ".py",
   "mimetype": "text/x-python",
   "name": "python",
   "nbconvert_exporter": "python",
   "pygments_lexer": "ipython3",
   "version": "3.10.11"
  }
 },
 "nbformat": 4,
 "nbformat_minor": 5
}
