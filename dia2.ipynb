{
 "cells": [
  {
   "cell_type": "markdown",
   "id": "dead782b",
   "metadata": {},
   "source": [
    "## **DIA 2**"
   ]
  },
  {
   "cell_type": "code",
   "execution_count": 4,
   "id": "1dc5bbc0",
   "metadata": {},
   "outputs": [
    {
     "name": "stdout",
     "output_type": "stream",
     "text": [
      "Buen dia Dulce\n"
     ]
    }
   ],
   "source": [
    "def saludo_bienvenida(nombre):\n",
    "    print (f\"Buen dia {nombre}\")\n",
    "\n",
    "saludo_bienvenida(\"Dulce\")"
   ]
  },
  {
   "cell_type": "code",
   "execution_count": 6,
   "id": "bc0fdc79",
   "metadata": {},
   "outputs": [
    {
     "name": "stdout",
     "output_type": "stream",
     "text": [
      "Buen dia Dulce\n"
     ]
    }
   ],
   "source": [
    "usuario = input (\"Ingrese su nombre\")\n",
    "\n",
    "saludo_bienvenida(usuario)"
   ]
  },
  {
   "cell_type": "markdown",
   "id": "15e02d69",
   "metadata": {},
   "source": [
    "## **Condicionales**"
   ]
  },
  {
   "cell_type": "markdown",
   "id": "aa386bd5",
   "metadata": {},
   "source": [
    "### Operadores de comparación\n",
    "- <> Mayor que y menor que\n",
    "- <= >= Mayor o igual  y menor o igual\n",
    "- == Igual\n",
    "- != Diferente\n"
   ]
  },
  {
   "cell_type": "markdown",
   "id": "39c365ba",
   "metadata": {},
   "source": [
    "### Palabras clave\n",
    "- if (si)\n",
    "- elif (sino si)\n",
    "- else (sino)"
   ]
  },
  {
   "cell_type": "markdown",
   "id": "94cfdcee",
   "metadata": {},
   "source": [
    "#### Ejemplo"
   ]
  },
  {
   "cell_type": "code",
   "execution_count": 2,
   "id": "a3ed86cc",
   "metadata": {},
   "outputs": [
    {
     "name": "stdout",
     "output_type": "stream",
     "text": [
      "Es menor, no puede ingresar\n"
     ]
    }
   ],
   "source": [
    "edad = 12\n",
    "\n",
    "if edad < 18:\n",
    "    print(\"Es menor, no puede ingresar\")"
   ]
  },
  {
   "cell_type": "code",
   "execution_count": 11,
   "id": "b0545fb8",
   "metadata": {},
   "outputs": [
    {
     "name": "stdout",
     "output_type": "stream",
     "text": [
      "Estudiante\n"
     ]
    }
   ],
   "source": [
    "edad_individuo = 15\n",
    "if edad_individuo < 18:\n",
    "    print(\"Estudiante\")\n",
    "elif edad_individuo > 65:\n",
    "    print(\"Jubilado\")\n",
    "else:\n",
    "    print(\"Trabajador\")"
   ]
  },
  {
   "cell_type": "markdown",
   "id": "39c814bf",
   "metadata": {},
   "source": [
    "## **Challenge 2.1**"
   ]
  },
  {
   "cell_type": "markdown",
   "id": "96f200be",
   "metadata": {},
   "source": [
    "- Escribe un programa que pregunte al usuario por su edad y determine si tiene edad suficiente para comprar y consumir alcohol.\n",
    "- Si el usuario tiene mas de 18 pero menos de 21 impirmir \"Podes tomar pero no comprar\"\n",
    "- Si el usuario tiene menos de 18 imprimir \"Juguito nomas\"\n",
    "- Si el usuario tiene mas de 21 imprimir \"Hace lo que quieras\""
   ]
  },
  {
   "cell_type": "code",
   "execution_count": 15,
   "id": "5ed7bd0f",
   "metadata": {},
   "outputs": [
    {
     "name": "stdout",
     "output_type": "stream",
     "text": [
      "Hace lo que quieras\n"
     ]
    }
   ],
   "source": [
    "edad = int(input (\"Ingrese su edad\"))\n",
    "if edad < 18:\n",
    "    print(\"Juguito nomas\")\n",
    "elif edad < 21:\n",
    "    print (\"Podes tomar pero no comprar\")\n",
    "else:\n",
    "    print (\"Hace lo que quieras\")\n"
   ]
  },
  {
   "cell_type": "markdown",
   "id": "4bd7b4e2",
   "metadata": {},
   "source": [
    "## Operadores lógicos\n",
    "### Nos permiten combinar las condiciones y los usamos cuando queremos que se cumplan dos o más condiciones a la vez\n",
    "- and \n",
    "- or\n",
    "- not\n"
   ]
  },
  {
   "cell_type": "code",
   "execution_count": 18,
   "id": "65b2b7ee",
   "metadata": {},
   "outputs": [
    {
     "name": "stdout",
     "output_type": "stream",
     "text": [
      "Jubilado\n"
     ]
    }
   ],
   "source": [
    "#Ejemplo\n",
    "edad_persona = 70\n",
    "trabaja = True\n",
    "\n",
    "if edad_persona < 18:\n",
    "    print(\"Estudiante\")\n",
    "elif edad_persona < 65 and trabaja == True:\n",
    "    print (\"Activa laboralmente\") \n",
    "elif edad_persona < 65 and trabaja == False:\n",
    "    print(\"Desempleado\")\n",
    "else:\n",
    "    print(\"Jubilado\")"
   ]
  },
  {
   "cell_type": "markdown",
   "id": "0c666aee",
   "metadata": {},
   "source": [
    "### Condiciones dentro de una función"
   ]
  },
  {
   "cell_type": "code",
   "execution_count": 20,
   "id": "a11b9536",
   "metadata": {},
   "outputs": [
    {
     "name": "stdout",
     "output_type": "stream",
     "text": [
      "Activo laboralmente\n"
     ]
    }
   ],
   "source": [
    "def chequear_edad(edad_persona, trabaja):\n",
    "    if edad_persona < 18:\n",
    "        print (\"Estudiante\")\n",
    "    elif edad_persona < 65 and trabaja == True:\n",
    "        print(\"Activo laboralmente\")\n",
    "    elif edad_persona < 65 and trabaja == False:\n",
    "        print(\"Desempleado\")\n",
    "    else:\n",
    "        print(\"Jubilado\")\n",
    "\n",
    "chequear_edad(30, True)"
   ]
  },
  {
   "cell_type": "markdown",
   "id": "9eb09a00",
   "metadata": {},
   "source": [
    "## **Challenge 2.2**"
   ]
  },
  {
   "cell_type": "markdown",
   "id": "c4013892",
   "metadata": {},
   "source": [
    "- Escribir un programa en el que se pregunte al usuario por una temperatura (en grados Celsius), imprima la temperatura escrita, y luego clasificar la temperatura ingresada en los siguientes niveles:\n",
    "\n",
    "- Entre -10 y 18 grados, que imprima \"Fresquete\".\n",
    "- Entre 19 y 30 grados, que imprima \"Calor'i\".\n",
    "- Entre 31 y 45 grados, que imprima \"Hakuuuuuu\".\n",
    "- Para todo lo demás, imprimir \"Ñamano mba'e!\"."
   ]
  },
  {
   "cell_type": "code",
   "execution_count": 53,
   "id": "34b9d91f",
   "metadata": {},
   "outputs": [
    {
     "name": "stdout",
     "output_type": "stream",
     "text": [
      "La temperatura actual es -12 grados Celsius\n",
      "Helado\n"
     ]
    }
   ],
   "source": [
    "temperatura = int(input (\"Cuántos grados hace\"))\n",
    "print(f\"La temperatura actual es {temperatura} grados Celsius\")\n",
    "if temperatura >= -10 and temperatura <= 18:\n",
    "    print(\"Fresquete\")\n",
    "elif temperatura >= 19 and temperatura <= 30:\n",
    "    print(\"Calor'i\")\n",
    "elif temperatura >= 31 and temperatura <= 45:\n",
    "    print(\"Hakuuuuu\")\n",
    "elif temperatura >= -9999 and temperatura <= -12:\n",
    "    print(\"Helado\")\n",
    "else:\n",
    "    print(\"Ñamano mba.e!\")"
   ]
  },
  {
   "cell_type": "markdown",
   "id": "884ebf64",
   "metadata": {},
   "source": [
    "## **Bucles**"
   ]
  },
  {
   "cell_type": "markdown",
   "id": "6057a18b",
   "metadata": {},
   "source": [
    "- While: Permite ejecutar una serie de inst. mientras una cond. se cumpla. Al momento que la cond. deje de ser cierta, el bucle para. \n",
    "#### *Bucle infinito*"
   ]
  },
  {
   "cell_type": "code",
   "execution_count": null,
   "id": "2e652195",
   "metadata": {},
   "outputs": [
    {
     "name": "stdout",
     "output_type": "stream",
     "text": [
      "4\n",
      "4\n",
      "4\n",
      "4\n",
      "4\n",
      "10\n",
      "nro correcto\n"
     ]
    }
   ],
   "source": [
    "# Ejemplo\n",
    "nro_a_adivinar = 10\n",
    "nro = 4\n",
    "\n",
    "while nro != nro_a_adivinar:\n",
    "    nro = int(input(\"Introduce un nro\"))\n",
    "    print(nro)\n",
    "\n",
    "print(\"nro correcto\")"
   ]
  },
  {
   "cell_type": "markdown",
   "id": "fb75477a",
   "metadata": {},
   "source": [
    "## **Challenge 2.3**"
   ]
  },
  {
   "cell_type": "markdown",
   "id": "287a20ae",
   "metadata": {},
   "source": [
    "- Escribir un programa que almacene una contraseña en una variable, y pregunte al usuario por la contraseña hasta que introduzca la contraseña correcta.\n",
    "\n",
    "- Cuando el usuario ingrese la contrasena correcta, imprimir un mensaje secreto."
   ]
  },
  {
   "cell_type": "code",
   "execution_count": 5,
   "id": "47b6963e",
   "metadata": {},
   "outputs": [
    {
     "name": "stdout",
     "output_type": "stream",
     "text": [
      "Contraseña incorrecta\n",
      "Contraseña incorrecta\n",
      "Contraseña incorrecta\n",
      "Contraseña incorrecta\n",
      "Contraseña incorrecta\n",
      "Contraseña incorrecta\n",
      "Contraseña correcta\n"
     ]
    }
   ],
   "source": [
    "contraseña_correcta = (\"pupi23\")\n",
    "contraseña = (\"miau\")\n",
    "\n",
    "while contraseña != contraseña_correcta:\n",
    "    contraseña = input(\"Ingrese la contraseña\")\n",
    "    print(\"Contraseña incorrecta\")\n",
    "\n",
    "print(\"Contraseña correcta\")"
   ]
  },
  {
   "cell_type": "code",
   "execution_count": null,
   "id": "4c5ab71a",
   "metadata": {},
   "outputs": [],
   "source": [
    "contraseña_correcta = (\"pupi23\")\n",
    "contraseña = (\"miau\")\n",
    "\n",
    "while contraseña != contraseña_correcta:\n",
    "    contraseña = input(\"Ingrese la contraseña\")\n",
    "    print(\"Contraseña incorrecta\")\n",
    "\n",
    "print(\"Contraseña correcta\")"
   ]
  },
  {
   "cell_type": "markdown",
   "id": "b6cdcb5b",
   "metadata": {},
   "source": [
    "## **Listas**"
   ]
  },
  {
   "cell_type": "markdown",
   "id": "c8258e7c",
   "metadata": {},
   "source": [
    "Agrupación de objetos, pueden ser distintos tipos de datos. Se colocan los elementos entre corchetes ]] y separados por comas"
   ]
  },
  {
   "cell_type": "code",
   "execution_count": 17,
   "id": "532e760e",
   "metadata": {},
   "outputs": [
    {
     "name": "stdout",
     "output_type": "stream",
     "text": [
      "manzana\n",
      "['naranja', 'pera', 'manzana', 'kiwi']\n",
      "['pera', 'banana', 'kiwi']\n",
      "3\n"
     ]
    }
   ],
   "source": [
    "lista_de_frutas = [\"naranja\", \"pera\", \"manzana\"]\n",
    "\n",
    "#Diferentes tipos de datos\n",
    "lista_bool = [True, False, True]\n",
    "lista_nros = [1,2,3]\n",
    "\n",
    "print(lista_de_frutas[2])\n",
    "\n",
    "#Añadir\n",
    "lista_de_frutas.append(\"kiwi\")\n",
    "print(lista_de_frutas)\n",
    "\n",
    "#Modificar\n",
    "lista_de_frutas[2]= \"banana\"\n",
    "\n",
    "#Eliminar\n",
    "lista_de_frutas.remove(\"naranja\")\n",
    "print(lista_de_frutas)\n",
    "\n",
    "#Contar elementos de lista\n",
    "print(len(lista_de_frutas))"
   ]
  },
  {
   "cell_type": "code",
   "execution_count": 16,
   "id": "67eb29e8",
   "metadata": {},
   "outputs": [
    {
     "name": "stdout",
     "output_type": "stream",
     "text": [
      "[]\n"
     ]
    }
   ],
   "source": [
    "# Modificar por índice\n",
    "lista_de_frutas.pop(0)\n",
    "print(lista_de_frutas)"
   ]
  },
  {
   "cell_type": "markdown",
   "id": "fac8eb78",
   "metadata": {},
   "source": [
    "## **Challenge 2.4**"
   ]
  },
  {
   "cell_type": "markdown",
   "id": "6583e0ea",
   "metadata": {},
   "source": [
    "Crear una lista de 5 elementos. Luego, seguir los siguientes pasos.\n",
    "\n",
    "Agregar un elemento al final de la lista.\n",
    "\n",
    "Modificar el segundo elemento.\n",
    "\n",
    "Eliminar el tercer elemento."
   ]
  },
  {
   "cell_type": "code",
   "execution_count": 24,
   "id": "49eae2c7",
   "metadata": {},
   "outputs": [
    {
     "name": "stdout",
     "output_type": "stream",
     "text": [
      "['pato', 'panda', 'perro', 'gato', 'pinguino']\n",
      "['pato', 'panda', 'perro', 'gato', 'pinguino', 'pollo']\n",
      "['pato', 'pavo', 'perro', 'gato', 'pinguino', 'pollo']\n",
      "['pato', 'pavo', 'gato', 'pinguino', 'pollo']\n"
     ]
    }
   ],
   "source": [
    "lista_animales = [\"pato\", \"panda\",\"perro\", \"gato\",\"pinguino\"]\n",
    "print(lista_animales)\n",
    "lista_animales.append(\"pollo\")\n",
    "print(lista_animales)\n",
    "lista_animales[1]=\"pavo\"\n",
    "print(lista_animales)\n",
    "lista_animales.remove(\"perro\")\n",
    "print(lista_animales)"
   ]
  },
  {
   "cell_type": "markdown",
   "id": "56d04f05",
   "metadata": {},
   "source": [
    "##### Con pop -> por **índice**"
   ]
  },
  {
   "cell_type": "code",
   "execution_count": 25,
   "id": "5674d321",
   "metadata": {},
   "outputs": [
    {
     "name": "stdout",
     "output_type": "stream",
     "text": [
      "['pato', 'pavo', 'gato', 'pinguino', 'pollo']\n",
      "['pato', 'pavo', 'pinguino', 'pollo']\n"
     ]
    }
   ],
   "source": [
    "print(lista_animales)\n",
    "lista_animales.pop(2)\n",
    "print(lista_animales)"
   ]
  },
  {
   "cell_type": "markdown",
   "id": "46cb9513",
   "metadata": {},
   "source": [
    "### Bucle: for"
   ]
  },
  {
   "cell_type": "markdown",
   "id": "9c597454",
   "metadata": {},
   "source": [
    "Bucle iterativo, repetir acción cierta cant. de veces\n",
    "Iteración: acción rep. cierta cant. de veces, en c/rep se tiene en cuenta el valor ant."
   ]
  },
  {
   "cell_type": "code",
   "execution_count": 26,
   "id": "28d04290",
   "metadata": {},
   "outputs": [
    {
     "name": "stdout",
     "output_type": "stream",
     "text": [
      "1\n",
      "2\n",
      "3\n",
      "4\n",
      "5\n",
      "6\n",
      "7\n"
     ]
    }
   ],
   "source": [
    "dias_semana = [1,2,3,4,5,6,7]\n",
    "\n",
    "for i in dias_semana:\n",
    "    print(i)"
   ]
  },
  {
   "cell_type": "code",
   "execution_count": 28,
   "id": "1985a434",
   "metadata": {},
   "outputs": [
    {
     "name": "stdout",
     "output_type": "stream",
     "text": [
      "Hola\n",
      "Hola\n"
     ]
    }
   ],
   "source": [
    "for i in range(2):\n",
    "    print(\"Hola\")"
   ]
  },
  {
   "cell_type": "code",
   "execution_count": 32,
   "id": "089d236e",
   "metadata": {},
   "outputs": [
    {
     "name": "stdout",
     "output_type": "stream",
     "text": [
      "pan\n",
      "queso\n",
      "leche\n",
      "jugo\n"
     ]
    }
   ],
   "source": [
    "lista_compras = [\"pan\",\"queso\",\"leche\",\"jugo\"]\n",
    "\n",
    "for articulo in lista_compras:\n",
    "    print(articulo)"
   ]
  },
  {
   "cell_type": "markdown",
   "id": "7b5a5e83",
   "metadata": {},
   "source": [
    "## **Challenge 2.5**"
   ]
  },
  {
   "cell_type": "markdown",
   "id": "b5172ce2",
   "metadata": {},
   "source": [
    "Challenge 🤺 - 20m\n",
    "Escribir un programa que itere en un rango de 10 veces. Por cada iteracion multiplicar el iterador por dos e imprimir el resultado."
   ]
  },
  {
   "cell_type": "code",
   "execution_count": 34,
   "id": "fc61fedc",
   "metadata": {},
   "outputs": [
    {
     "name": "stdout",
     "output_type": "stream",
     "text": [
      "0\n",
      "2\n",
      "4\n",
      "6\n",
      "8\n",
      "10\n",
      "12\n",
      "14\n",
      "16\n",
      "18\n"
     ]
    }
   ],
   "source": [
    "for multiplicacion in range(10):\n",
    "    print(multiplicacion*2)"
   ]
  },
  {
   "cell_type": "markdown",
   "id": "01b3f625",
   "metadata": {},
   "source": [
    "Recorrer los elementos de una lista de marcas e imprimir cada marca solamente si tiene 6 letras o más."
   ]
  },
  {
   "cell_type": "code",
   "execution_count": 61,
   "id": "edd0b1bb",
   "metadata": {},
   "outputs": [
    {
     "name": "stdout",
     "output_type": "stream",
     "text": [
      "adidas\n",
      "rondina\n"
     ]
    }
   ],
   "source": [
    "lista_marcas = [\"nike\",\"puma\",\"adidas\",\"kappa\",\"rondina\"]\n",
    "for marca in lista_marcas:\n",
    "    if len(marca) >=6:\n",
    "        print(marca)"
   ]
  },
  {
   "cell_type": "markdown",
   "id": "e417093a",
   "metadata": {},
   "source": [
    "## Challenge"
   ]
  },
  {
   "cell_type": "code",
   "execution_count": 77,
   "id": "3b790960",
   "metadata": {},
   "outputs": [
    {
     "name": "stdout",
     "output_type": "stream",
     "text": [
      "bien\n"
     ]
    }
   ],
   "source": [
    "mensaje = input(\"Inserte una frase\")\n",
    "for letra in mensaje:\n",
    "    if (letra) == \"o\":\n",
    "        print(\"bien\")"
   ]
  }
 ],
 "metadata": {
  "kernelspec": {
   "display_name": "Python 3",
   "language": "python",
   "name": "python3"
  },
  "language_info": {
   "codemirror_mode": {
    "name": "ipython",
    "version": 3
   },
   "file_extension": ".py",
   "mimetype": "text/x-python",
   "name": "python",
   "nbconvert_exporter": "python",
   "pygments_lexer": "ipython3",
   "version": "3.10.11"
  }
 },
 "nbformat": 4,
 "nbformat_minor": 5
}
